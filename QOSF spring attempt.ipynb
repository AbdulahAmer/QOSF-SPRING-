{
 "cells": [
  {
   "cell_type": "markdown",
   "metadata": {},
   "source": [
    "# Imports "
   ]
  },
  {
   "cell_type": "code",
   "execution_count": 1,
   "metadata": {},
   "outputs": [],
   "source": [
    "import numpy as np"
   ]
  },
  {
   "cell_type": "markdown",
   "metadata": {},
   "source": [
    "# Task 3\n",
    "\n",
    "Learning by doing: the best way to understand the basics of quantum computation is to implement a quantum circuit simulator. This task is suitable both for people from computer sciences who want to learn about quantum computing, and for people from math/physics who want to exercise coding.\n",
    "\n",
    "Detailed description of the task with some learning resources and examples can be found in this [jupyter notebook](https://github.com/quantastica/qosf-mentorship/blob/master/qosf-simulator-task.ipynb)\n",
    "\n",
    "It is expected that simulator can perform following:\n",
    "\n",
    "-initialize state\n",
    "\n",
    "-read program, and for each gate:\n",
    "    \n",
    "    -calculate matrix operator\n",
    "    \n",
    "    -apply operator (modify state)\n",
    "\n",
    "-perform multi-shot measurement of all qubits using weighted random technique\n",
    "\n",
    "# Criteria \n",
    "\n",
    "### Coding skills – clear, readable, well-structured code\n",
    "\n",
    "### Communication – well-described results, easy to understand, tidy.\n",
    "\n",
    "### Reliability – submitted on time, all the points from the task description are met\n",
    "\n",
    "### Research skills – asking good questions and answering them methodically\n",
    "\n"
   ]
  },
  {
   "cell_type": "markdown",
   "metadata": {},
   "source": [
    "# Here are some things we want to accomplish as a starting point for a QC compiler "
   ]
  },
  {
   "cell_type": "code",
   "execution_count": 2,
   "metadata": {},
   "outputs": [],
   "source": [
    "def get_ground_state(num_qubits):\n",
    "    # return vector of size 2**num_qubits with all zeroes except first element which is 1\n",
    "    return\n",
    "\n",
    "def get_operator(total_qubits, gate_unitary, target_qubits):\n",
    "    # return unitary operator of size 2**n x 2**n for given gate and target qubits\n",
    "    return\n",
    "\n",
    "def run_program(initial_state, program):\n",
    "    # read program, and for each gate:\n",
    "    #   - calculate matrix operator\n",
    "    #   - multiply state with operator\n",
    "    # return final statevb\n",
    "    return\n",
    "\n",
    "def measure_all(state_vector):\n",
    "    # choose element from state_vector using weighted random and return it's index\n",
    "    return\n",
    "\n",
    "def get_counts(state_vector, num_shots):\n",
    "    # simply execute measure_all in a loop num_shots times and\n",
    "    # return object with statistics in following form:\n",
    "    #   {\n",
    "    #      element_index: number_of_ocurrences,\n",
    "    #      element_index: number_of_ocurrences,\n",
    "    #      element_index: number_of_ocurrences,\n",
    "    #      ...\n",
    "    #   }\n",
    "    # (only for elements which occoured - returned from measure_all)\n",
    "    return"
   ]
  },
  {
   "cell_type": "code",
   "execution_count": 3,
   "metadata": {},
   "outputs": [],
   "source": [
    "def get_ground_state(num_qubits):\n",
    "    \n",
    "    ''' \n",
    "    return vector of size 2**num_qubits with all zeroes except first element which is 1, \n",
    "    this vector represents all qubits in the system being in the |0> state. \n",
    "    \n",
    "    example: \n",
    "    \n",
    "        1 qubit - |10>        Two possible states\n",
    "        2 qubit - |1000>      Four possible states\n",
    "        3 qubit - |100000000> Eight possible states\n",
    "        \n",
    "    '''\n",
    "    \n",
    "    import numpy as np \n",
    "    \n",
    "    number_of_states = 2**num_qubits\n",
    "    \n",
    "    # I use np.pad() to add some number of zeros to the end of an array , this is better than a loop\n",
    "    # which is the obvious solution but not the best solution. \n",
    "    \n",
    "    ground_state = np.array([1])\n",
    "    \n",
    "    ground_state = np.pad(ground_state, (0, number_of_states-1), 'constant')\n",
    "    \n",
    "    return ground_state\n",
    "    "
   ]
  },
  {
   "cell_type": "code",
   "execution_count": 4,
   "metadata": {},
   "outputs": [
    {
     "name": "stdout",
     "output_type": "stream",
     "text": [
      " Ground State:  [1 0 0 0 0 0 0 0 0 0 0 0 0 0 0 0 0 0 0 0 0 0 0 0 0 0 0 0 0 0 0 0] \n",
      " Number of possible states:  32\n"
     ]
    }
   ],
   "source": [
    "gs=get_ground_state(5)\n",
    "print(' Ground State: ', gs, '\\n', 'Number of possible states: ', len(gs))\n"
   ]
  },
  {
   "cell_type": "markdown",
   "metadata": {},
   "source": [
    "# Fundamental Gates\n",
    "\n",
    "X, Y, Z, H, I, CNOT\n"
   ]
  },
  {
   "cell_type": "code",
   "execution_count": 5,
   "metadata": {},
   "outputs": [],
   "source": [
    "# These single qubit gates are easy enough to hard code in \n",
    "\n",
    "X = np.array([\n",
    "[0, 1],\n",
    "[1, 0]\n",
    "])\n",
    "\n",
    "Y = np.array([\n",
    "[0, -1j],\n",
    "[1j, 0]\n",
    "])\n",
    "\n",
    "Z = np.array([\n",
    "[1, 0],\n",
    "[0, -1]\n",
    "])\n",
    "\n",
    "H = np.array([\n",
    "[1/np.sqrt(2), 1/np.sqrt(2)],\n",
    "[1/np.sqrt(2), -1/np.sqrt(2)]\n",
    "])\n",
    "\n",
    "I=np.identity(2)\n",
    "\n",
    "# Creating a mapping of strings to gates \n",
    "\n",
    "gates={'X':X, 'Y':Y, 'Z':Z, 'H':H, 'I': I}"
   ]
  },
  {
   "cell_type": "markdown",
   "metadata": {},
   "source": [
    "# Single Qubit Operations with  our fundamental 2x2 gates"
   ]
  },
  {
   "cell_type": "code",
   "execution_count": 6,
   "metadata": {},
   "outputs": [
    {
     "name": "stdout",
     "output_type": "stream",
     "text": [
      "Initial State:  [1 0]\n",
      "H  on  [1 0]\n",
      "Final State:  [0.70710678 0.70710678]\n"
     ]
    }
   ],
   "source": [
    "initial_state = get_ground_state(1)\n",
    "print('Initial State: ', initial_state)\n",
    "\n",
    "\n",
    "gate='H'\n",
    "\n",
    "print( gate, ' on ', initial_state)\n",
    "\n",
    "final_state = np.dot(gates[gate], initial_state)\n",
    "print('Final State: ', final_state)\n",
    "\n",
    "\n"
   ]
  },
  {
   "cell_type": "markdown",
   "metadata": {},
   "source": [
    "## We can wrap this in a function to check all our single qubit operations easily "
   ]
  },
  {
   "cell_type": "code",
   "execution_count": 7,
   "metadata": {},
   "outputs": [],
   "source": [
    "def single_qubit_op(gate, initial_state): \n",
    "    \n",
    "    '''\n",
    "    \n",
    "    Take a gate from the dictionary of single qubit gates, and apply it to an initial state\n",
    "    \n",
    "    example:\n",
    "    \n",
    "        X on |10> will yield |01> \n",
    "        X on |01> will yield |10> \n",
    "        \n",
    "    \n",
    "    '''\n",
    "    \n",
    "    import numpy as np \n",
    "\n",
    "    # These single qubit gates are easy enough to hard code in \n",
    "\n",
    "    X = np.array([\n",
    "    [0, 1],\n",
    "    [1, 0]\n",
    "    ])\n",
    "\n",
    "    Y = np.array([\n",
    "    [0, -1j],\n",
    "    [1j, 0]\n",
    "    ])\n",
    "\n",
    "    Z = np.array([\n",
    "    [1, 0],\n",
    "    [0, -1]\n",
    "    ])\n",
    "\n",
    "    H = np.array([\n",
    "    [1/np.sqrt(2), 1/np.sqrt(2)],\n",
    "    [1/np.sqrt(2), -1/np.sqrt(2)]\n",
    "    ])\n",
    "\n",
    "    I=np.identity(2) \n",
    "\n",
    "    # Creating a mapping of strings to gates \n",
    "\n",
    "    gates={'X':X, 'Y':Y, 'Z':Z, 'H':H, 'I': I}\n",
    "    \n",
    "    \n",
    "    final_state = np.dot(gates[gate], initial_state)\n",
    "    \n",
    "    \n",
    "    return final_state"
   ]
  },
  {
   "cell_type": "markdown",
   "metadata": {},
   "source": [
    "## Our expected results from using the X gate on some initial states "
   ]
  },
  {
   "cell_type": "code",
   "execution_count": 8,
   "metadata": {},
   "outputs": [
    {
     "name": "stdout",
     "output_type": "stream",
     "text": [
      "X[0,1] =  [1 0]\n",
      "X[1,0] =  [0 1]\n"
     ]
    }
   ],
   "source": [
    "print('X[0,1] = ' , single_qubit_op('X', [0,1]))\n",
    "\n",
    "print('X[1,0] = ' , single_qubit_op('X', [1,0])) "
   ]
  },
  {
   "cell_type": "markdown",
   "metadata": {},
   "source": [
    "### Now that we have a place to start we need to generalize to multiple qubit systems"
   ]
  },
  {
   "cell_type": "markdown",
   "metadata": {},
   "source": [
    "\n",
    "\n",
    "# Matrix operator\n",
    "\n",
    "Quantum program eveloves quantum state by multiplying state vector with each gate's unitary matrix (dot product). Note that dimension of the state vector and dimension of the unitary matrix describing a gate usually don't match. For example: 3-qubit quantum circuit's state vector has $2^n=2^3=8$ elements, but single-qubit gate has $2^n\\times2^n=2^1\\times2^1=2\\times2$ elements. In order to perform matrix-vector multiplication, we need to \"resize\" gate's matrix to the dimension of the state vector. Let's call that matrix a matrix operator.\n",
    "\n",
    "Note that size of the matrix operator is $2^n\\times2^n$ where $n$ is total number of qubits in the circuit, so storing it into memory and calculating it requires a lot of memory and cpu power for bigger circuits. Optimizing this code is most interesting and challenging part, but for our purpose it is enough if you make it work smoothly with 8 qubits (the more - the better).\n",
    "\n",
    "Matrix operator for single-qubit gates\n",
    "Matrix operator for single-qubit gate can be calculated by performing tensor product of gate's unitary matrix and $2\\times2$ identity matrices in correct order.\n",
    "\n",
    "Example for single-qubit gate $U$ in 3-qubit circuit:\n",
    "\n",
    "gate on qubit 0: ${O=U \\otimes I \\otimes I}$\n",
    "gate on qubit 1: ${O=I \\otimes U \\otimes I}$\n",
    "gate on qubit 2: ${O=I \\otimes I \\otimes U}$\n",
    "Example matrix operator for X gate acting on third qubit in 3-qubit circuit can be calculated like this:\n"
   ]
  },
  {
   "cell_type": "code",
   "execution_count": 9,
   "metadata": {},
   "outputs": [],
   "source": [
    "# Supplement code as a starting point "
   ]
  },
  {
   "cell_type": "code",
   "execution_count": 10,
   "metadata": {},
   "outputs": [
    {
     "name": "stdout",
     "output_type": "stream",
     "text": [
      "Initial state: [1, 0, 0, 0, 0, 0, 0, 0]\n",
      "\n",
      "Operator:\n",
      "\n",
      " [[0. 1. 0. 0. 0. 0. 0. 0.]\n",
      " [1. 0. 0. 0. 0. 0. 0. 0.]\n",
      " [0. 0. 0. 1. 0. 0. 0. 0.]\n",
      " [0. 0. 1. 0. 0. 0. 0. 0.]\n",
      " [0. 0. 0. 0. 0. 1. 0. 0.]\n",
      " [0. 0. 0. 0. 1. 0. 0. 0.]\n",
      " [0. 0. 0. 0. 0. 0. 0. 1.]\n",
      " [0. 0. 0. 0. 0. 0. 1. 0.]] \n",
      "\n",
      "Final state: [0. 1. 0. 0. 0. 0. 0. 0.]\n"
     ]
    }
   ],
   "source": [
    "import numpy as np\n",
    "\n",
    "# Let's define state vector of the 3-qubit circuit in \"ground state\" (all qubits in state |0>)\n",
    "\n",
    "psi = [1, 0, 0, 0, 0, 0, 0, 0] \n",
    "print(\"Initial state:\", psi) \n",
    "\n",
    "\n",
    "# Define X (NOT) gate: \n",
    "\n",
    "X = np.array([\n",
    "[0, 1],\n",
    "[1, 0]\n",
    "])\n",
    "\n",
    "# Define 2x2 identity\n",
    "\n",
    "I = np.identity(2)\n",
    "\n",
    "# Calculate operator for X gate acting on third qubit in 3-qubit circuit \n",
    "\n",
    "O = np.kron(np.kron(I, I), X) \n",
    "\n",
    "print(\"\\nOperator:\\n\\n\", O, \"\\n\")\n",
    "\n",
    "# And finally, apply operator\n",
    "\n",
    "psi = np.dot(psi, O)\n",
    "print(\"Final state:\", psi) "
   ]
  },
  {
   "cell_type": "markdown",
   "metadata": {},
   "source": [
    "# Single qubit operations for systems of multiple qubits \n",
    "\n",
    "### generalized we get \n",
    "\n",
    "where n is the total number of qubits in our system \n",
    "\n",
    "On 0th qubit: ${O=U \\otimes I^{n-1}}$\n",
    "\n",
    "On 1st qubit: ${O=I \\otimes U \\otimes I^{n-2}}$\n",
    "\n",
    "On 2nd qubit: ${O=I \\otimes I\\otimes U \\otimes I^{n-3}}$\n",
    "\n",
    "On 3rd qubit: ${O=I \\otimes I \\otimes I\\otimes U \\otimes I^{n-4}}$\n",
    "\n",
    "...\n",
    "\n",
    "On mth qubit: ${O=I^{m} \\otimes U \\otimes I^{n-m-1)}}$\n",
    "\n",
    "we can code this out and be able to use a single qubit operation on some mth qubit in a n-qubit arrangement \n",
    "like the supplemental material I will try it out with the X gate first\n",
    "\n",
    "At first thought I think there is going to be opprotunity to use recursion to calculate the matrices instead doing some big for loops for larger quantum circuits this will save us cpu and memory that we desperately need \n",
    "\n",
    "\n",
    "I realize that big endian would be reversed...."
   ]
  },
  {
   "cell_type": "code",
   "execution_count": 11,
   "metadata": {},
   "outputs": [],
   "source": [
    "# intermediate version of get_operator() that only includes single qubit operations \n",
    "\n",
    "def make_operator(total_qubits, target_qubit, unitary_operator):\n",
    "    \n",
    "    '''\n",
    "    This works with forloops and is for big endian encoding , the least significant qubit , the zeroth qubit is to the left,\n",
    "    the most significant to the right. \n",
    "    \n",
    "    where n is the total number of qubits in our system, in big endian the operators are simply reversed  \n",
    "\n",
    "    On 0th qubit: ${O=U \\otimes I^{n-1}}$\n",
    "\n",
    "    On 1st qubit: ${O=I \\otimes U \\otimes I^{n-2}}$\n",
    "\n",
    "    On 2nd qubit: ${O=I \\otimes I\\otimes U \\otimes I^{n-3}}$\n",
    "\n",
    "    On 3rd qubit: ${O=I \\otimes I \\otimes I\\otimes U \\otimes I^{n-4}}$\n",
    "\n",
    "    ...\n",
    "\n",
    "    On mth qubit: ${O=I^{m} \\otimes U \\otimes I^{n-m-1)}}$\n",
    "    \n",
    "    \n",
    "    '''\n",
    "    \n",
    "    import numpy as np\n",
    "\n",
    "    O=1\n",
    "    prev=I\n",
    "    U=unitary_operator\n",
    "    string=''\n",
    "\n",
    "    for i in range(total_qubits-target_qubit): \n",
    "        O=np.kron(O,I)\n",
    "        string+='I'\n",
    "\n",
    "    O=np.kron(O,U)\n",
    "    string+='U'\n",
    "\n",
    "    for i in range(target_qubit-1): \n",
    "        O=np.kron(O,I)\n",
    "        string+='I'\n",
    "\n",
    "    print('O: ', string)\n",
    "    return O "
   ]
  },
  {
   "cell_type": "markdown",
   "metadata": {},
   "source": [
    "Now we need to have our make_operator() work for CNOT which is a multiple qubit gate, it takes a target and control qubit\n",
    "\n",
    "\n"
   ]
  },
  {
   "cell_type": "code",
   "execution_count": 12,
   "metadata": {},
   "outputs": [],
   "source": [
    "# Define |0><0| and |1><1| projection operators to help us write out CNOT \n",
    "\n",
    "P0=np.array([\n",
    "    [1,0],\n",
    "    [0,0]\n",
    "])\n",
    "\n",
    "P1=np.array([\n",
    "    [0,0],\n",
    "    [0,1]\n",
    "])"
   ]
  },
  {
   "cell_type": "code",
   "execution_count": 13,
   "metadata": {},
   "outputs": [],
   "source": [
    "# # now we have a set up to try our CNOT gate \n",
    "\n",
    "# #order matters for contol bits, the operations are reversed if the order of control and target bits are swapped \n",
    "# # CX12 != CX21\n",
    "\n",
    "# # if forward 1 -> 2\n",
    "\n",
    "# if control_qubit < target_qubit:\n",
    "\n",
    "#     Operator_0 = np.kron(P0, np.identity(2**(total_qubits-1))) # always will be Identity matrices \n",
    "\n",
    "#     Operator_1 =np.kron( np.kron( np.kron( P1, np.identity(2**(target_qubit-control_qubit-1))) , U),\n",
    "#                             np.identity(2**(total_qubits-target_qubit)))\n",
    "\n",
    "\n",
    "\n",
    "\n",
    "#     O = Operator_0 + Operator_1\n",
    "\n",
    "\n",
    "\n",
    "# # if backward 2 -> 1\n",
    "\n",
    "# if target_qubit < control_qubit: \n",
    "\n",
    "#     Operator_0 = np.kron(np.identity(2**(total_qubits-1)), P0) # always wi ll be Identity matrices \n",
    "\n",
    "#     Operator_1 =np.kron( \n",
    "#                         np.kron( \n",
    "#                         np.kron(\n",
    "#                                 np.identity(2**(total_qubits-target_qubit)), U ) ,\n",
    "#                          np.identity(2**(target_qubit-control_qubit-1))),P1 )\n",
    "\n",
    "#     O = Operator_0 + Operator_1\n",
    "\n"
   ]
  },
  {
   "cell_type": "code",
   "execution_count": 14,
   "metadata": {},
   "outputs": [],
   "source": [
    "def get_operator(total_qubits, gate_unitary, target_qubits):\n",
    "    # return unitary operator of size 2**n x 2**n for given gate and target qubits\n",
    "    \n",
    "    '''\n",
    "    This works with forloops and is for big endian encoding , the least significant qubit , the zeroth qubit is to the left,\n",
    "    the most significant to the right. \n",
    "    \n",
    "    where n is the total number of qubits in our system, in big endian the operators are simply reversed  \n",
    "\n",
    "    On 0th qubit: ${O=U \\otimes I^{n-1}}$\n",
    "\n",
    "    On 1st qubit: ${O=I \\otimes U \\otimes I^{n-2}}$\n",
    "\n",
    "    On 2nd qubit: ${O=I \\otimes I\\otimes U \\otimes I^{n-3}}$\n",
    "\n",
    "    On 3rd qubit: ${O=I \\otimes I \\otimes I\\otimes U \\otimes I^{n-4}}$\n",
    "\n",
    "    ...\n",
    "\n",
    "    On mth qubit: ${O=I^{m} \\otimes U \\otimes I^{n-m-1)}}$\n",
    " \n",
    "        \n",
    "    '''\n",
    "    import numpy as np \n",
    "\n",
    "    # These single qubit gates are easy enough to hard code in \n",
    "\n",
    "    X = np.array([\n",
    "    [0, 1],\n",
    "    [1, 0]\n",
    "    ])\n",
    "\n",
    "    Y = np.array([\n",
    "    [0, -1j],\n",
    "    [1j, 0]\n",
    "    ])\n",
    "\n",
    "    Z = np.array([\n",
    "    [1, 0],\n",
    "    [0, -1]\n",
    "    ])\n",
    "\n",
    "    H = np.array([\n",
    "    [1/np.sqrt(2), 1/np.sqrt(2)],\n",
    "    [1/np.sqrt(2), -1/np.sqrt(2)]\n",
    "    ])\n",
    "\n",
    "    I=np.identity(2) \n",
    "\n",
    "    P0=np.array([\n",
    "    [1,0],\n",
    "    [0,0]\n",
    "    ])\n",
    "\n",
    "    P1=np.array([\n",
    "    [0,0],\n",
    "    [0,1]\n",
    "    ])\n",
    "    \n",
    "    \n",
    "    gates={'X':X, 'Y':Y, 'Z':Z, 'H':H, 'I': I}\n",
    "    \n",
    "    \n",
    "    #order matters for contol bits, the operations are reversed if the order of control and target bits are swapped \n",
    "    # CX12 != CX21\n",
    "    \n",
    "    # case if we have a control gate \n",
    "    # target_qubits need two inputs here not 1, a control qubit first and a target qubit second\n",
    "    if 'CX' in gate_unitary:\n",
    "        control_qubit=target_qubits[0]\n",
    "        target_qubit=target_qubits[1]\n",
    "        \n",
    "        U=X\n",
    "        \n",
    "        if control_qubit < target_qubit:\n",
    "\n",
    "            Operator_0 = np.kron(np.identity(2**(total_qubits-1)), P0) # always will be Identity matrices\n",
    "            \n",
    "            \n",
    "            Operator_1 =np.kron( \n",
    "                                np.kron( \n",
    "                                np.kron(\n",
    "                                        np.identity(2**(total_qubits-target_qubit)), U ) ,\n",
    "                                 np.identity(2**(target_qubit-control_qubit-1))),P1 )\n",
    "\n",
    "            \n",
    "            O = Operator_0 + Operator_1\n",
    "        elif target_qubit < control_qubit: \n",
    "            Operator_0 = np.kron(P0, np.identity(2**(total_qubits-1))) # always will be Identity matrices \n",
    "\n",
    "\n",
    "            Operator_1 =np.kron( np.kron( np.kron(P1, np.identity(2**(control_qubit-target_qubit-1))) , U),\n",
    "                                    np.identity(2**(total_qubits-control_qubit)))\n",
    "            \n",
    "\n",
    "            O = Operator_0 + Operator_1\n",
    "   \n",
    "        \n",
    "        \n",
    "        \n",
    "        \n",
    "    else: \n",
    "        # we have a single qubit\n",
    "    \n",
    "        O=1\n",
    "        U=gates[gate_unitary]\n",
    "        target_qubit=target_qubits[0]\n",
    "        for i in range(total_qubits-target_qubit): \n",
    "            O=np.kron(O,I)\n",
    "\n",
    "        O=np.kron(O,U)\n",
    "\n",
    "        for i in range(target_qubit-1): \n",
    "            O=np.kron(O,I)\n",
    "\n",
    "\n",
    "    \n",
    "    Operator=O\n",
    "    \n",
    "    return Operator\n",
    "\n",
    "\n",
    "\n"
   ]
  },
  {
   "cell_type": "code",
   "execution_count": 15,
   "metadata": {},
   "outputs": [
    {
     "name": "stdout",
     "output_type": "stream",
     "text": [
      "[0. 1. 0. 0.]\n"
     ]
    },
    {
     "data": {
      "text/plain": [
       "array([0., 0., 0., 1.])"
      ]
     },
     "execution_count": 15,
     "metadata": {},
     "output_type": "execute_result"
    }
   ],
   "source": [
    "# making sure cnot works! for the backwards case especially :) \n",
    "CX=get_operator(2,'CX', [1,2])\n",
    "gs=get_ground_state(2)\n",
    "\n",
    "nX=get_operator(2,'X',[1])\n",
    "\n",
    "initial_state=np.dot(gs, nX)\n",
    "print(initial_state)\n",
    "np.dot(initial_state, CX)\n"
   ]
  },
  {
   "cell_type": "code",
   "execution_count": 16,
   "metadata": {},
   "outputs": [],
   "source": [
    "\n",
    "def run_program(initial_state, program):\n",
    "    # read program, and for each gate:\n",
    "    #   - calculate matrix operator\n",
    "    #   - multiply state with operator\n",
    "    # return final state\n",
    "    \n",
    "    #     my_circuit = [\n",
    "    # { \"gate\": \"h\", \"target\": [0] }, \n",
    "    # { \"gate\": \"cx\", \"target\": [0, 1] }\n",
    "    # ]\n",
    "    \n",
    "\n",
    "    # have program in a specific form a list works out as provided \n",
    "    \n",
    "    \n",
    "    from math import log2 \n",
    "    \n",
    "    psi=initial_state\n",
    "    total_qubits=int(log2(len(initial_state)))\n",
    "    for i in range(len(program)): \n",
    "        \n",
    "        gate_unitary=program[i]['gate']\n",
    "        \n",
    "        target_qubits=program[i]['target']\n",
    "        \n",
    "        O = get_operator(total_qubits, gate_unitary, target_qubits)\n",
    "        \n",
    "        psi=np.dot(psi,O)\n",
    "        \n",
    "    \n",
    "    return psi"
   ]
  },
  {
   "cell_type": "markdown",
   "metadata": {},
   "source": [
    "### Check if run_program() works! "
   ]
  },
  {
   "cell_type": "code",
   "execution_count": 17,
   "metadata": {},
   "outputs": [
    {
     "data": {
      "text/plain": [
       "array([0.70710678, 0.        , 0.        , 0.70710678])"
      ]
     },
     "execution_count": 17,
     "metadata": {},
     "output_type": "execute_result"
    }
   ],
   "source": [
    "    my_circuit = [\n",
    "{ \"gate\": \"H\", \"target\": [1] },{ \"gate\": \"CX\", \"target\": [1, 2] }]\n",
    "\n",
    "initial_state=get_ground_state(2)\n",
    "run_program(initial_state, my_circuit)"
   ]
  },
  {
   "cell_type": "code",
   "execution_count": 18,
   "metadata": {},
   "outputs": [
    {
     "name": "stdout",
     "output_type": "stream",
     "text": [
      "initial state:  [1 0 0 0]\n",
      "After Hadammard:  [0.70710678 0.70710678 0.         0.        ]\n",
      "final state:  [0.70710678 0.         0.         0.70710678]\n"
     ]
    }
   ],
   "source": [
    "print('initial state: ', initial_state)\n",
    "prev=np.dot(initial_state,get_operator(2,'H',[1]))\n",
    "print('After Hadammard: ', prev)\n",
    "final_state = np.dot(prev,get_operator(2,'CX',[1,2]))\n",
    "print('final state: ', final_state)"
   ]
  },
  {
   "cell_type": "markdown",
   "metadata": {},
   "source": [
    "### Now we need to explore measure_all() as we fight towards the end "
   ]
  },
  {
   "cell_type": "code",
   "execution_count": 19,
   "metadata": {},
   "outputs": [],
   "source": [
    "\n",
    "def measure_all(state_vector):\n",
    "    # choose element from state_vector using weighted random and return it's index\n",
    "    \n",
    "    from math import log2 \n",
    "    import numpy as np\n",
    "    \n",
    "\n",
    "    total_qubits=int(log2(len(state_vector)))\n",
    "        \n",
    "    # generate a list of possible states \n",
    "    \n",
    "    possible_states=[]\n",
    "    \n",
    "    for i in range(len(state_vector)):\n",
    "    \n",
    "        string=bin(i)[2:][::-1] # helps get binary representation of states in our encoding of big endian \n",
    "                                #first splice gets rid of the '0b' in front of the string returned by bin\n",
    "                                # second splice reverses the string \n",
    "        \n",
    "        string+='0'*(total_qubits-len(string))\n",
    "        \n",
    "        possible_states.append(string)\n",
    "    \n",
    "    probability_distribution=(np.array(state_vector))**2\n",
    "    result=np.random.choice(possible_states,1, p=probability_distribution)\n",
    "    \n",
    "    return result[0]"
   ]
  },
  {
   "cell_type": "markdown",
   "metadata": {},
   "source": [
    "# testing measure_all()"
   ]
  },
  {
   "cell_type": "code",
   "execution_count": 20,
   "metadata": {},
   "outputs": [
    {
     "name": "stdout",
     "output_type": "stream",
     "text": [
      "initial state:  [1 0 0 0]\n",
      "After H:  [0.70710678 0.70710678 0.         0.        ]\n",
      "result:  10\n"
     ]
    }
   ],
   "source": [
    "print('initial state: ', initial_state)\n",
    "prev=np.dot(initial_state,get_operator(2,'H',[1]))\n",
    "print('After H: ', prev)\n",
    "\n",
    "result=measure_all(prev)\n",
    "print('result: ', result)"
   ]
  },
  {
   "cell_type": "markdown",
   "metadata": {},
   "source": [
    "# get_counts() is measuring just a bunch of times and keeping record of our results!"
   ]
  },
  {
   "cell_type": "code",
   "execution_count": 21,
   "metadata": {},
   "outputs": [],
   "source": [
    "def get_counts(state_vector, num_shots):\n",
    "    # simply execute measure_all in a loop num_shots times and\n",
    "    # return object with statistics in following form:\n",
    "    #   {\n",
    "    #      element_index: number_of_ocurrences,\n",
    "    #      element_index: number_of_ocurrences,\n",
    "    #      element_index: number_of_ocurrences,\n",
    "    #      ...\n",
    "    #   }\n",
    "    # (only for elements which occoured - returned from measure_all)\n",
    "    \n",
    "    counts={}\n",
    "    \n",
    "    for i in range(num_shots): \n",
    "        \n",
    "        result=measure_all(state_vector)\n",
    "        \n",
    "        if result in counts: \n",
    "            counts[result]+=1\n",
    "        else:\n",
    "            counts[result]=1\n",
    "    return counts"
   ]
  },
  {
   "cell_type": "markdown",
   "metadata": {},
   "source": [
    "### Try get_counts()"
   ]
  },
  {
   "cell_type": "code",
   "execution_count": 22,
   "metadata": {},
   "outputs": [
    {
     "name": "stdout",
     "output_type": "stream",
     "text": [
      "initial state:  [1 0 0 0]\n",
      "After H:  [0.70710678 0.70710678 0.         0.        ]\n",
      "results after 1000 measurements:  {'00': 492, '10': 508}\n"
     ]
    }
   ],
   "source": [
    "print('initial state: ', initial_state)\n",
    "prev=np.dot(initial_state,get_operator(2,'H',[1]))\n",
    "print('After H: ', prev)\n",
    "\n",
    "print('results after 1000 measurements: ', get_counts(prev, 1000))"
   ]
  },
  {
   "cell_type": "markdown",
   "metadata": {},
   "source": [
    "# Task 3 completed! "
   ]
  },
  {
   "cell_type": "code",
   "execution_count": 23,
   "metadata": {},
   "outputs": [],
   "source": [
    "def get_ground_state(num_qubits):\n",
    "    \n",
    "    ''' \n",
    "    return vector of size 2**num_qubits with all zeroes except first element which is 1, \n",
    "    this vector represents all qubits in the system being in the |0> state. \n",
    "    \n",
    "    example: \n",
    "    \n",
    "        1 qubit - |10>        Two possible states\n",
    "        2 qubit - |1000>      Four possible states\n",
    "        3 qubit - |100000000> Eight possible states\n",
    "        \n",
    "    '''\n",
    "    \n",
    "    import numpy as np \n",
    "    \n",
    "    number_of_states = 2**num_qubits\n",
    "    \n",
    "    # I use np.pad() to add some number of zeros to the end of an array , this is better than a loop\n",
    "    # which is the obvious solution but not the best solution. \n",
    "    \n",
    "    ground_state = np.array([1])\n",
    "    \n",
    "    ground_state = np.pad(ground_state, (0, number_of_states-1), 'constant')\n",
    "    \n",
    "    return ground_state\n",
    "    "
   ]
  },
  {
   "cell_type": "code",
   "execution_count": 24,
   "metadata": {},
   "outputs": [],
   "source": [
    "def get_operator(total_qubits, gate_unitary, target_qubits):\n",
    "    # return unitary operator of size 2**n x 2**n for given gate and target qubits\n",
    "    \n",
    "    '''\n",
    "    This works with forloops and is for big endian encoding , the least significant qubit , the zeroth qubit is to the left,\n",
    "    the most significant to the right. \n",
    "    \n",
    "    where n is the total number of qubits in our system, in big endian the operators are simply reversed  \n",
    "\n",
    "    On 0th qubit: ${O=U \\otimes I^{n-1}}$\n",
    "\n",
    "    On 1st qubit: ${O=I \\otimes U \\otimes I^{n-2}}$\n",
    "\n",
    "    On 2nd qubit: ${O=I \\otimes I\\otimes U \\otimes I^{n-3}}$\n",
    "\n",
    "    On 3rd qubit: ${O=I \\otimes I \\otimes I\\otimes U \\otimes I^{n-4}}$\n",
    "\n",
    "    ...\n",
    "\n",
    "    On mth qubit: ${O=I^{m} \\otimes U \\otimes I^{n-m-1)}}$\n",
    " \n",
    "        \n",
    "    '''\n",
    "    import numpy as np \n",
    "\n",
    "    # These single qubit gates are easy enough to hard code in \n",
    "\n",
    "    X = np.array([\n",
    "    [0, 1],\n",
    "    [1, 0]\n",
    "    ])\n",
    "\n",
    "    Y = np.array([\n",
    "    [0, -1j],\n",
    "    [1j, 0]\n",
    "    ])\n",
    "\n",
    "    Z = np.array([\n",
    "    [1, 0],\n",
    "    [0, -1]\n",
    "    ])\n",
    "\n",
    "    H = np.array([\n",
    "    [1/np.sqrt(2), 1/np.sqrt(2)],\n",
    "    [1/np.sqrt(2), -1/np.sqrt(2)]\n",
    "    ])\n",
    "\n",
    "    I=np.identity(2) \n",
    "\n",
    "    P0=np.array([\n",
    "    [1,0],\n",
    "    [0,0]\n",
    "    ])\n",
    "\n",
    "    P1=np.array([\n",
    "    [0,0],\n",
    "    [0,1]\n",
    "    ])\n",
    "    \n",
    "    gates={'X':X, 'Y':Y, 'Z':Z, 'H':H, 'I': I}\n",
    "    \n",
    "    \n",
    "    #order matters for contol bits, the operations are reversed if the order of control and target bits are swapped \n",
    "    # CX12 != CX21\n",
    "    \n",
    "    # case if we have a control gate \n",
    "    # target_qubits need two inputs here not 1, a control qubit first and a target qubit second\n",
    "    if 'CX' in gate_unitary:\n",
    "        control_qubit=target_qubits[0]\n",
    "        target_qubit=target_qubits[1]\n",
    "        \n",
    "        U=X\n",
    "        \n",
    "        if control_qubit < target_qubit:\n",
    "\n",
    "            Operator_0 = np.kron(np.identity(2**(total_qubits-1)), P0) # always will be Identity matrices\n",
    "            \n",
    "            \n",
    "            Operator_1 =np.kron( \n",
    "                                np.kron( \n",
    "                                np.kron(\n",
    "                                        np.identity(2**(total_qubits-target_qubit)), U ) ,\n",
    "                                 np.identity(2**(target_qubit-control_qubit-1))),P1 )\n",
    "\n",
    "            \n",
    "            O = Operator_0 + Operator_1\n",
    "        elif target_qubit < control_qubit: \n",
    "            Operator_0 = np.kron(P0, np.identity(2**(total_qubits-1))) # always will be Identity matrices \n",
    "\n",
    "\n",
    "            Operator_1 =np.kron( np.kron( np.kron(P1, np.identity(2**(control_qubit-target_qubit-1))) , U),\n",
    "                                    np.identity(2**(total_qubits-control_qubit)))\n",
    "            \n",
    "\n",
    "            O = Operator_0 + Operator_1\n",
    "      \n",
    "    else: \n",
    "        # we have a single qubit\n",
    "    \n",
    "        O=1\n",
    "        U=gates[gate_unitary]\n",
    "        target_qubit=target_qubits[0]\n",
    "        for i in range(total_qubits-target_qubit): \n",
    "            O=np.kron(O,I)\n",
    "\n",
    "        O=np.kron(O,U)\n",
    "\n",
    "        for i in range(target_qubit-1): \n",
    "            O=np.kron(O,I)\n",
    "  \n",
    "    Operator=O\n",
    "    \n",
    "    return Operator\n"
   ]
  },
  {
   "cell_type": "code",
   "execution_count": 25,
   "metadata": {},
   "outputs": [],
   "source": [
    "\n",
    "def run_program(initial_state, program):\n",
    "    '''\n",
    "    Takes a list of dictionary elements, iterates through land finds quantum gates and target qubits, \n",
    "    we then pass in the gate and targets into get_operator()\n",
    "\n",
    "    we then apply the operator to psi and then get a new psi to apply the next operator to and continue. \n",
    "\n",
    "    return th final state vector\n",
    "    '''\n",
    "\n",
    "    from math import log2 \n",
    "\n",
    "    psi=initial_state\n",
    "    total_qubits=int(log2(len(initial_state)))\n",
    "    \n",
    "    for i in range(len(program)): \n",
    "\n",
    "        gate_unitary=program[i]['gate']\n",
    "\n",
    "        target_qubits=program[i]['target']\n",
    "\n",
    "        O = get_operator(total_qubits, gate_unitary, target_qubits)\n",
    "\n",
    "        psi=np.dot(psi,O)\n",
    "\n",
    "    \n",
    "    return psi"
   ]
  },
  {
   "cell_type": "code",
   "execution_count": 26,
   "metadata": {},
   "outputs": [],
   "source": [
    "\n",
    "def measure_all(state_vector):\n",
    "    '''\n",
    "    \n",
    "    creates a list of all possible states of system by calculating the total_qubits in system, the we map \n",
    "    the probablity amplitudes onto the possible states with a porbability distribution and use np.random.choice()\n",
    "    to choose one according to our weights! \n",
    "    \n",
    "    '''\n",
    "    \n",
    "    from math import log2 \n",
    "    import numpy as np\n",
    "    \n",
    "\n",
    "    total_qubits=int(log2(len(state_vector)))\n",
    "        \n",
    "    # generate a list of possible states \n",
    "    \n",
    "    possible_states=[]\n",
    "    \n",
    "    for i in range(len(state_vector)):\n",
    "    \n",
    "        string=bin(i)[2:][::-1] # helps get binary representation of states in our encoding of big endian \n",
    "                                #first splice gets rid of the '0b' in front of the string returned by bin\n",
    "                                # second splice reverses the string \n",
    "        \n",
    "        string+='0'*(total_qubits-len(string))\n",
    "        \n",
    "        possible_states.append(string)\n",
    "    \n",
    "    probability_distribution=(np.array(state_vector))**2 # probability is amplitude squared! \n",
    "    \n",
    "    result=np.random.choice(possible_states,1, p=probability_distribution)\n",
    "    \n",
    "    return result[0]"
   ]
  },
  {
   "cell_type": "code",
   "execution_count": 27,
   "metadata": {},
   "outputs": [],
   "source": [
    "def get_counts(state_vector, num_shots):\n",
    "    \n",
    "    '''\n",
    "    Execute measure_all(), num_shots times and keep track of the results!! \n",
    "    '''\n",
    "\n",
    "    counts={}\n",
    "    \n",
    "    for i in range(num_shots): \n",
    "        \n",
    "        result=measure_all(state_vector)\n",
    "        \n",
    "        if result in counts: \n",
    "            counts[result]+=1\n",
    "        else:\n",
    "            counts[result]=1\n",
    "    return counts"
   ]
  },
  {
   "cell_type": "markdown",
   "metadata": {},
   "source": [
    "# Remarks \n",
    "\n",
    "I am extremely proud and excited to see how far I can go using numpy and some critical thinking. Being able to bridge my ability to do linear algebra on qubits on paper to being able to do any operation through some keystrokes!!! I did not think creating a simple QC compiler like this would have been so plausible. I wish I had more time to implement parametrized gates, but I believe I have the know-how and architecture to add more functionality in the future. It was fun going back to basics and just focusing on my coding. Sometimes in Qiskit for example, there are times where I can autopilot and put stuff in to run and not think as much about what I am doing, thinking of tensor products and the specific ordering of things, and how one would write these matrices out on paper. This was a rewarding experience that I hope to take with me to work on bigger projects in the future! "
   ]
  }
 ],
 "metadata": {
  "kernelspec": {
   "display_name": "Python 3",
   "language": "python",
   "name": "python3"
  },
  "language_info": {
   "codemirror_mode": {
    "name": "ipython",
    "version": 3
   },
   "file_extension": ".py",
   "mimetype": "text/x-python",
   "name": "python",
   "nbconvert_exporter": "python",
   "pygments_lexer": "ipython3",
   "version": "3.9.0"
  }
 },
 "nbformat": 4,
 "nbformat_minor": 4
}
